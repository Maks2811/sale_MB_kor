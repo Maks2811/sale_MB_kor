{
 "cells": [
  {
   "cell_type": "code",
   "execution_count": 1,
   "metadata": {},
   "outputs": [],
   "source": [
    "import pandas as pd\n",
    "import numpy as np\n",
    "import seaborn as sns\n",
    "import matplotlib.pyplot as plt"
   ]
  },
  {
   "cell_type": "markdown",
   "metadata": {},
   "source": [
    "**Анализ объявлений о продаже бензиновых полноприводных Mercedes GLB 2021 г.в. с пробегом до 50 000 км в Корее, в период: 07.2024-11.2024. <br>\n",
    "Загрузим данные из XLS-файла, очистим и обогатим их, обработаем, посчитаем некоторые метрики, построим графики и выгрузим очищенные, обработанные данные в CSV-файл для дальнейшей загрузки в BI-систему**"
   ]
  },
  {
   "cell_type": "code",
   "execution_count": null,
   "metadata": {},
   "outputs": [],
   "source": [
    "# создаем датафрейм из XLS-файла с \"грязными\" данными\n",
    "df = pd.read_excel('GLB_kor.xlsx')"
   ]
  },
  {
   "cell_type": "code",
   "execution_count": 3,
   "metadata": {},
   "outputs": [
    {
     "data": {
      "text/html": [
       "<div>\n",
       "<style scoped>\n",
       "    .dataframe tbody tr th:only-of-type {\n",
       "        vertical-align: middle;\n",
       "    }\n",
       "\n",
       "    .dataframe tbody tr th {\n",
       "        vertical-align: top;\n",
       "    }\n",
       "\n",
       "    .dataframe thead th {\n",
       "        text-align: right;\n",
       "    }\n",
       "</style>\n",
       "<table border=\"1\" class=\"dataframe\">\n",
       "  <thead>\n",
       "    <tr style=\"text-align: right;\">\n",
       "      <th></th>\n",
       "      <th>№</th>\n",
       "      <th>модель</th>\n",
       "      <th>регистрация</th>\n",
       "      <th>VIN</th>\n",
       "      <th>выпуск</th>\n",
       "      <th>пробег</th>\n",
       "      <th>цена</th>\n",
       "      <th>Кол-во страховых случаев</th>\n",
       "      <th>Выплаты этому авто</th>\n",
       "      <th>Выплаты другому</th>\n",
       "      <th>Комплектация</th>\n",
       "      <th>Цвет</th>\n",
       "      <th>комментарии</th>\n",
       "      <th>Unnamed: 13</th>\n",
       "    </tr>\n",
       "  </thead>\n",
       "  <tbody>\n",
       "    <tr>\n",
       "      <th>0</th>\n",
       "      <td>1.0</td>\n",
       "      <td>250.0</td>\n",
       "      <td>2021-03-01</td>\n",
       "      <td>NaN</td>\n",
       "      <td>2020???</td>\n",
       "      <td>16156</td>\n",
       "      <td>45.9</td>\n",
       "      <td>1.0</td>\n",
       "      <td>587</td>\n",
       "      <td>190</td>\n",
       "      <td>однозонный климат, без воздуховодов</td>\n",
       "      <td>белый</td>\n",
       "      <td>NaN</td>\n",
       "      <td>NaN</td>\n",
       "    </tr>\n",
       "    <tr>\n",
       "      <th>1</th>\n",
       "      <td>2.0</td>\n",
       "      <td>250.0</td>\n",
       "      <td>2021-02-01</td>\n",
       "      <td>101897</td>\n",
       "      <td>2020???</td>\n",
       "      <td>27500</td>\n",
       "      <td>44.9</td>\n",
       "      <td>0.0</td>\n",
       "      <td>0</td>\n",
       "      <td>0</td>\n",
       "      <td>однозонный климат, без воздуховодов</td>\n",
       "      <td>белый</td>\n",
       "      <td>NaN</td>\n",
       "      <td>NaN</td>\n",
       "    </tr>\n",
       "    <tr>\n",
       "      <th>2</th>\n",
       "      <td>3.0</td>\n",
       "      <td>250.0</td>\n",
       "      <td>2021-09-01</td>\n",
       "      <td>152540</td>\n",
       "      <td>2021</td>\n",
       "      <td>41612</td>\n",
       "      <td>44</td>\n",
       "      <td>0.0</td>\n",
       "      <td>0</td>\n",
       "      <td>0</td>\n",
       "      <td>двузонный климат с задними воздуховодами</td>\n",
       "      <td>белый</td>\n",
       "      <td>продает оф. Дилер, скол на приборной панели</td>\n",
       "      <td>NaN</td>\n",
       "    </tr>\n",
       "    <tr>\n",
       "      <th>3</th>\n",
       "      <td>4.0</td>\n",
       "      <td>35.0</td>\n",
       "      <td>2021-12-01</td>\n",
       "      <td>167747</td>\n",
       "      <td>2021-10-01 00:00:00</td>\n",
       "      <td>4642</td>\n",
       "      <td>50.5</td>\n",
       "      <td>0.0</td>\n",
       "      <td>0</td>\n",
       "      <td>0</td>\n",
       "      <td>двузонный климат с задними воздуховодами</td>\n",
       "      <td>белый</td>\n",
       "      <td>NaN</td>\n",
       "      <td>NaN</td>\n",
       "    </tr>\n",
       "    <tr>\n",
       "      <th>4</th>\n",
       "      <td>5.0</td>\n",
       "      <td>250.0</td>\n",
       "      <td>2021-04-01</td>\n",
       "      <td>106777</td>\n",
       "      <td>2020???</td>\n",
       "      <td>35301</td>\n",
       "      <td>43.9</td>\n",
       "      <td>0.0</td>\n",
       "      <td>0</td>\n",
       "      <td>0</td>\n",
       "      <td>однозонный климат, без воздуховодов</td>\n",
       "      <td>черный</td>\n",
       "      <td>NaN</td>\n",
       "      <td>NaN</td>\n",
       "    </tr>\n",
       "    <tr>\n",
       "      <th>...</th>\n",
       "      <td>...</td>\n",
       "      <td>...</td>\n",
       "      <td>...</td>\n",
       "      <td>...</td>\n",
       "      <td>...</td>\n",
       "      <td>...</td>\n",
       "      <td>...</td>\n",
       "      <td>...</td>\n",
       "      <td>...</td>\n",
       "      <td>...</td>\n",
       "      <td>...</td>\n",
       "      <td>...</td>\n",
       "      <td>...</td>\n",
       "      <td>...</td>\n",
       "    </tr>\n",
       "    <tr>\n",
       "      <th>106</th>\n",
       "      <td>107.0</td>\n",
       "      <td>250.0</td>\n",
       "      <td>2021-05-01</td>\n",
       "      <td>113637</td>\n",
       "      <td>2021</td>\n",
       "      <td>33061</td>\n",
       "      <td>39.5</td>\n",
       "      <td>3.0</td>\n",
       "      <td>13146</td>\n",
       "      <td>805</td>\n",
       "      <td>двузонный климат с задними воздуховодами  5 мест</td>\n",
       "      <td>белый</td>\n",
       "      <td>NaN</td>\n",
       "      <td>NaN</td>\n",
       "    </tr>\n",
       "    <tr>\n",
       "      <th>107</th>\n",
       "      <td>108.0</td>\n",
       "      <td>250.0</td>\n",
       "      <td>2021-04-01</td>\n",
       "      <td>87836</td>\n",
       "      <td>2020???</td>\n",
       "      <td>28851</td>\n",
       "      <td>42.5</td>\n",
       "      <td>1.0</td>\n",
       "      <td>6638</td>\n",
       "      <td>536</td>\n",
       "      <td>1 зонный климат с задними воздуховодами, 5 мест</td>\n",
       "      <td>серый</td>\n",
       "      <td>NaN</td>\n",
       "      <td>NaN</td>\n",
       "    </tr>\n",
       "    <tr>\n",
       "      <th>108</th>\n",
       "      <td>NaN</td>\n",
       "      <td>NaN</td>\n",
       "      <td>NaT</td>\n",
       "      <td>NaN</td>\n",
       "      <td>NaN</td>\n",
       "      <td>NaN</td>\n",
       "      <td>NaN</td>\n",
       "      <td>NaN</td>\n",
       "      <td>NaN</td>\n",
       "      <td>NaN</td>\n",
       "      <td>NaN</td>\n",
       "      <td>NaN</td>\n",
       "      <td>NaN</td>\n",
       "      <td>NaN</td>\n",
       "    </tr>\n",
       "    <tr>\n",
       "      <th>109</th>\n",
       "      <td>NaN</td>\n",
       "      <td>NaN</td>\n",
       "      <td>NaT</td>\n",
       "      <td>NaN</td>\n",
       "      <td>NaN</td>\n",
       "      <td>NaN</td>\n",
       "      <td>NaN</td>\n",
       "      <td>NaN</td>\n",
       "      <td>NaN</td>\n",
       "      <td>NaN</td>\n",
       "      <td>NaN</td>\n",
       "      <td>NaN</td>\n",
       "      <td>NaN</td>\n",
       "      <td>NaN</td>\n",
       "    </tr>\n",
       "    <tr>\n",
       "      <th>110</th>\n",
       "      <td>NaN</td>\n",
       "      <td>NaN</td>\n",
       "      <td>NaT</td>\n",
       "      <td>MW113141</td>\n",
       "      <td>2021-01-01 00:00:00</td>\n",
       "      <td>2-х зонный климат</td>\n",
       "      <td>NaN</td>\n",
       "      <td>NaN</td>\n",
       "      <td>NaN</td>\n",
       "      <td>NaN</td>\n",
       "      <td>NaN</td>\n",
       "      <td>NaN</td>\n",
       "      <td>NaN</td>\n",
       "      <td>NaN</td>\n",
       "    </tr>\n",
       "  </tbody>\n",
       "</table>\n",
       "<p>111 rows × 14 columns</p>\n",
       "</div>"
      ],
      "text/plain": [
       "         №  модель регистрация       VIN               выпуск  \\\n",
       "0      1.0   250.0  2021-03-01       NaN              2020???   \n",
       "1      2.0   250.0  2021-02-01    101897              2020???   \n",
       "2      3.0   250.0  2021-09-01    152540                 2021   \n",
       "3      4.0    35.0  2021-12-01    167747  2021-10-01 00:00:00   \n",
       "4      5.0   250.0  2021-04-01    106777              2020???   \n",
       "..     ...     ...         ...       ...                  ...   \n",
       "106  107.0   250.0  2021-05-01    113637                 2021   \n",
       "107  108.0   250.0  2021-04-01     87836              2020???   \n",
       "108    NaN     NaN         NaT       NaN                  NaN   \n",
       "109    NaN     NaN         NaT       NaN                  NaN   \n",
       "110    NaN     NaN         NaT  MW113141  2021-01-01 00:00:00   \n",
       "\n",
       "                пробег  цена  Кол-во страховых случаев Выплаты этому авто  \\\n",
       "0                16156  45.9                       1.0                587   \n",
       "1                27500  44.9                       0.0                  0   \n",
       "2                41612    44                       0.0                  0   \n",
       "3                 4642  50.5                       0.0                  0   \n",
       "4                35301  43.9                       0.0                  0   \n",
       "..                 ...   ...                       ...                ...   \n",
       "106              33061  39.5                       3.0              13146   \n",
       "107              28851  42.5                       1.0               6638   \n",
       "108                NaN   NaN                       NaN                NaN   \n",
       "109                NaN   NaN                       NaN                NaN   \n",
       "110  2-х зонный климат   NaN                       NaN                NaN   \n",
       "\n",
       "    Выплаты другому                                      Комплектация    Цвет  \\\n",
       "0               190               однозонный климат, без воздуховодов   белый   \n",
       "1                 0               однозонный климат, без воздуховодов   белый   \n",
       "2                 0          двузонный климат с задними воздуховодами   белый   \n",
       "3                 0          двузонный климат с задними воздуховодами   белый   \n",
       "4                 0               однозонный климат, без воздуховодов  черный   \n",
       "..              ...                                               ...     ...   \n",
       "106             805  двузонный климат с задними воздуховодами  5 мест   белый   \n",
       "107             536   1 зонный климат с задними воздуховодами, 5 мест   серый   \n",
       "108             NaN                                               NaN     NaN   \n",
       "109             NaN                                               NaN     NaN   \n",
       "110             NaN                                               NaN     NaN   \n",
       "\n",
       "                                     комментарии Unnamed: 13  \n",
       "0                                            NaN         NaN  \n",
       "1                                            NaN         NaN  \n",
       "2    продает оф. Дилер, скол на приборной панели         NaN  \n",
       "3                                            NaN         NaN  \n",
       "4                                            NaN         NaN  \n",
       "..                                           ...         ...  \n",
       "106                                          NaN         NaN  \n",
       "107                                          NaN         NaN  \n",
       "108                                          NaN         NaN  \n",
       "109                                          NaN         NaN  \n",
       "110                                          NaN         NaN  \n",
       "\n",
       "[111 rows x 14 columns]"
      ]
     },
     "execution_count": 3,
     "metadata": {},
     "output_type": "execute_result"
    }
   ],
   "source": [
    "df"
   ]
  },
  {
   "cell_type": "code",
   "execution_count": 4,
   "metadata": {},
   "outputs": [],
   "source": [
    "# удаляем лишние пустые строки из конца таблицы\n",
    "\n",
    "df = df.drop(df.index[108:111])"
   ]
  },
  {
   "cell_type": "code",
   "execution_count": 5,
   "metadata": {},
   "outputs": [],
   "source": [
    "# удаляем лишние столбцы\n",
    "\n",
    "df.drop(['Unnamed: 13', '№'], axis=1, inplace=True)"
   ]
  },
  {
   "cell_type": "code",
   "execution_count": 6,
   "metadata": {},
   "outputs": [],
   "source": [
    "# оставляем в датафрейме только те строки, где пробег у автомобилей меньше 50 000 км\n",
    "\n",
    "df = df[df['пробег'] < 50000]"
   ]
  },
  {
   "cell_type": "code",
   "execution_count": 7,
   "metadata": {},
   "outputs": [
    {
     "name": "stdout",
     "output_type": "stream",
     "text": [
      "<class 'pandas.core.frame.DataFrame'>\n",
      "Index: 100 entries, 0 to 107\n",
      "Data columns (total 12 columns):\n",
      " #   Column                    Non-Null Count  Dtype         \n",
      "---  ------                    --------------  -----         \n",
      " 0   модель                    100 non-null    float64       \n",
      " 1   регистрация               100 non-null    datetime64[ns]\n",
      " 2   VIN                       63 non-null     object        \n",
      " 3   выпуск                    96 non-null     object        \n",
      " 4   пробег                    100 non-null    object        \n",
      " 5   цена                      100 non-null    object        \n",
      " 6   Кол-во страховых случаев  100 non-null    float64       \n",
      " 7   Выплаты этому авто        100 non-null    object        \n",
      " 8   Выплаты другому           100 non-null    object        \n",
      " 9   Комплектация              100 non-null    object        \n",
      " 10  Цвет                      100 non-null    object        \n",
      " 11  комментарии               41 non-null     object        \n",
      "dtypes: datetime64[ns](1), float64(2), object(9)\n",
      "memory usage: 10.2+ KB\n"
     ]
    }
   ],
   "source": [
    "df.info()"
   ]
  },
  {
   "cell_type": "code",
   "execution_count": 8,
   "metadata": {},
   "outputs": [
    {
     "data": {
      "text/plain": [
       "цена\n",
       "45.5                   8\n",
       "44                     7\n",
       "46.5                   6\n",
       "46                     4\n",
       "42.5                   3\n",
       "47.5                   3\n",
       "44.9                   3\n",
       "48                     3\n",
       "44.5                   3\n",
       "43.3                   3\n",
       "45.9                   3\n",
       "43.9                   3\n",
       "только для корейцев    3\n",
       "39.5                   2\n",
       "47                     2\n",
       "43.5                   2\n",
       "46.6                   2\n",
       "49.9                   2\n",
       "50.5                   2\n",
       "40.5                   2\n",
       "46.9                   2\n",
       "42.4                   2\n",
       "43.8                   2\n",
       "41.6                   1\n",
       "51.8                   1\n",
       "42.8                   1\n",
       "41.8                   1\n",
       "43.2                   1\n",
       "48.5                   1\n",
       "42.9                   1\n",
       "41.9                   1\n",
       "34.9                   1\n",
       "43.39                  1\n",
       "44.7                   1\n",
       "45                     1\n",
       "42.3                   1\n",
       "49.5                   1\n",
       "49.99                  1\n",
       "47.8                   1\n",
       "34                     1\n",
       "52.4                   1\n",
       "53.8                   1\n",
       "47,9(46,9)             1\n",
       "37.89                  1\n",
       "50                     1\n",
       "47.4                   1\n",
       "54                     1\n",
       "53.99                  1\n",
       "43.99                  1\n",
       "42.75                  1\n",
       "41.5                   1\n",
       "Name: count, dtype: int64"
      ]
     },
     "execution_count": 8,
     "metadata": {},
     "output_type": "execute_result"
    }
   ],
   "source": [
    "df['цена'].value_counts()"
   ]
  },
  {
   "cell_type": "code",
   "execution_count": 9,
   "metadata": {},
   "outputs": [],
   "source": [
    "# оставляем в датафрейме только те строки, где у автомобилей есть цена\n",
    "\n",
    "df = df[df['цена'] != 'только для корейцев']"
   ]
  },
  {
   "cell_type": "code",
   "execution_count": 10,
   "metadata": {},
   "outputs": [],
   "source": [
    "# Добавляем колонку 'модельный год'\n",
    "\n",
    "df['модельный год'] = np.where(df['регистрация'] < '2021-05-01', 2020, 2021)"
   ]
  },
  {
   "cell_type": "code",
   "execution_count": 11,
   "metadata": {},
   "outputs": [],
   "source": [
    "# Добавляем колонку 'распределение по пробегу'\n",
    "\n",
    "df['категория пробега'] = np.where(df['пробег'] < 10000, '0-10000',\n",
    "    np.where((df['пробег'] >= 10000) & (df['пробег'] < 20000), '10000-20000',\n",
    "    np.where((df['пробег'] >= 20000) & (df['пробег'] < 30000), '20000-30000',\n",
    "    np.where((df['пробег'] >= 30000) & (df['пробег'] < 40000), '30000-40000',\n",
    "    np.where((df['пробег'] >= 40000) & (df['пробег'] <= 50000), '40000-50000', 'более 50000')))))"
   ]
  },
  {
   "cell_type": "code",
   "execution_count": 12,
   "metadata": {},
   "outputs": [
    {
     "data": {
      "text/plain": [
       "цена\n",
       "45.5          8\n",
       "44            7\n",
       "46.5          6\n",
       "46            4\n",
       "45.9          3\n",
       "44.5          3\n",
       "43.3          3\n",
       "44.9          3\n",
       "47.5          3\n",
       "42.5          3\n",
       "43.9          3\n",
       "48            3\n",
       "49.9          2\n",
       "43.8          2\n",
       "46.9          2\n",
       "46.6          2\n",
       "42.4          2\n",
       "39.5          2\n",
       "40.5          2\n",
       "43.5          2\n",
       "47            2\n",
       "50.5          2\n",
       "49.99         1\n",
       "42.9          1\n",
       "41.6          1\n",
       "51.8          1\n",
       "45            1\n",
       "43.39         1\n",
       "44.7          1\n",
       "48.5          1\n",
       "34.9          1\n",
       "41.9          1\n",
       "42.8          1\n",
       "43.2          1\n",
       "42.3          1\n",
       "47,9(46,9)    1\n",
       "47.8          1\n",
       "34            1\n",
       "49.5          1\n",
       "53.8          1\n",
       "50            1\n",
       "47.4          1\n",
       "54            1\n",
       "53.99         1\n",
       "42.75         1\n",
       "41.8          1\n",
       "52.4          1\n",
       "43.99         1\n",
       "37.89         1\n",
       "41.5          1\n",
       "Name: count, dtype: int64"
      ]
     },
     "execution_count": 12,
     "metadata": {},
     "output_type": "execute_result"
    }
   ],
   "source": [
    "df['цена'].value_counts()"
   ]
  },
  {
   "cell_type": "code",
   "execution_count": 13,
   "metadata": {},
   "outputs": [],
   "source": [
    "df['цена'] = df['цена'].replace('47,9(46,9)', '46.9')"
   ]
  },
  {
   "cell_type": "markdown",
   "metadata": {},
   "source": [
    "**Преобразуем форматы данных в тех полях, в которых они определены не правильно**"
   ]
  },
  {
   "cell_type": "code",
   "execution_count": 14,
   "metadata": {},
   "outputs": [],
   "source": [
    "df['цена'] = df['цена'].astype(float)"
   ]
  },
  {
   "cell_type": "code",
   "execution_count": 15,
   "metadata": {},
   "outputs": [],
   "source": [
    "df['пробег'] = df['пробег'].astype(int)"
   ]
  },
  {
   "cell_type": "code",
   "execution_count": 16,
   "metadata": {},
   "outputs": [],
   "source": [
    "df['Кол-во страховых случаев'] = df['Кол-во страховых случаев'].astype(int)"
   ]
  },
  {
   "cell_type": "code",
   "execution_count": 17,
   "metadata": {},
   "outputs": [],
   "source": [
    "df['модель'] = df['модель'].astype(int)"
   ]
  },
  {
   "cell_type": "markdown",
   "metadata": {},
   "source": [
    "**Вычислим среднюю выплату по автомобилю со страховыми случаями для того чтобы подставить ее в те ячейки, где у нас нет соответствующего значения**"
   ]
  },
  {
   "cell_type": "code",
   "execution_count": null,
   "metadata": {},
   "outputs": [],
   "source": [
    "# df['Выплаты этому авто'] = df['Выплаты этому авто'].replace('$2442', '2442')"
   ]
  },
  {
   "cell_type": "code",
   "execution_count": null,
   "metadata": {},
   "outputs": [],
   "source": [
    "# df['Выплаты этому авто'] = df['Выплаты этому авто'].replace('$1183', '1183')"
   ]
  },
  {
   "cell_type": "code",
   "execution_count": 20,
   "metadata": {},
   "outputs": [],
   "source": [
    "df_temp =df[df['Выплаты этому авто'] != 0]"
   ]
  },
  {
   "cell_type": "code",
   "execution_count": 21,
   "metadata": {},
   "outputs": [],
   "source": [
    "df_temp = df_temp[df_temp['Выплаты этому авто'] != '???']"
   ]
  },
  {
   "cell_type": "code",
   "execution_count": 22,
   "metadata": {},
   "outputs": [],
   "source": [
    "df_temp['Выплаты этому авто'] = df_temp['Выплаты этому авто'].astype(int)"
   ]
  },
  {
   "cell_type": "code",
   "execution_count": 23,
   "metadata": {},
   "outputs": [
    {
     "name": "stdout",
     "output_type": "stream",
     "text": [
      "Средняя выплата по автомобилю со страховыми случаями: 3641 $\n"
     ]
    }
   ],
   "source": [
    "# Вычислили среднюю выплату по автомобилю со страховыми случаями\n",
    "\n",
    "print(f\"Средняя выплата по автомобилю со страховыми случаями: {round(df_temp['Выплаты этому авто'].mean())} $\")"
   ]
  },
  {
   "cell_type": "code",
   "execution_count": 24,
   "metadata": {},
   "outputs": [],
   "source": [
    "# заменим неопределенное значение поля 'Выплаты этому авто'  '???'  на среднее значение выплаты автомобилю со страховыми случаями\n",
    "\n",
    "df['Выплаты этому авто'] = df['Выплаты этому авто'].replace('???', round(df_temp['Выплаты этому авто'].mean()))"
   ]
  },
  {
   "cell_type": "code",
   "execution_count": 25,
   "metadata": {},
   "outputs": [],
   "source": [
    "df['Выплаты этому авто'] = df['Выплаты этому авто'].astype(int)"
   ]
  },
  {
   "cell_type": "code",
   "execution_count": 26,
   "metadata": {},
   "outputs": [
    {
     "name": "stdout",
     "output_type": "stream",
     "text": [
      "<class 'pandas.core.frame.DataFrame'>\n",
      "Index: 39 entries, 0 to 107\n",
      "Data columns (total 14 columns):\n",
      " #   Column                    Non-Null Count  Dtype         \n",
      "---  ------                    --------------  -----         \n",
      " 0   модель                    39 non-null     int32         \n",
      " 1   регистрация               39 non-null     datetime64[ns]\n",
      " 2   VIN                       26 non-null     object        \n",
      " 3   выпуск                    38 non-null     object        \n",
      " 4   пробег                    39 non-null     int32         \n",
      " 5   цена                      39 non-null     float64       \n",
      " 6   Кол-во страховых случаев  39 non-null     int32         \n",
      " 7   Выплаты этому авто        39 non-null     int32         \n",
      " 8   Выплаты другому           39 non-null     object        \n",
      " 9   Комплектация              39 non-null     object        \n",
      " 10  Цвет                      39 non-null     object        \n",
      " 11  комментарии               14 non-null     object        \n",
      " 12  модельный год             39 non-null     int32         \n",
      " 13  категория пробега         39 non-null     object        \n",
      "dtypes: datetime64[ns](1), float64(1), int32(5), object(7)\n",
      "memory usage: 3.8+ KB\n"
     ]
    }
   ],
   "source": [
    "df_temp.info()"
   ]
  },
  {
   "cell_type": "code",
   "execution_count": null,
   "metadata": {},
   "outputs": [],
   "source": [
    "# pd.set_option('display.max_rows', 50)"
   ]
  },
  {
   "cell_type": "code",
   "execution_count": 28,
   "metadata": {},
   "outputs": [
    {
     "name": "stdout",
     "output_type": "stream",
     "text": [
      "<class 'pandas.core.frame.DataFrame'>\n",
      "Index: 97 entries, 0 to 107\n",
      "Data columns (total 14 columns):\n",
      " #   Column                    Non-Null Count  Dtype         \n",
      "---  ------                    --------------  -----         \n",
      " 0   модель                    97 non-null     int32         \n",
      " 1   регистрация               97 non-null     datetime64[ns]\n",
      " 2   VIN                       62 non-null     object        \n",
      " 3   выпуск                    94 non-null     object        \n",
      " 4   пробег                    97 non-null     int32         \n",
      " 5   цена                      97 non-null     float64       \n",
      " 6   Кол-во страховых случаев  97 non-null     int32         \n",
      " 7   Выплаты этому авто        97 non-null     int32         \n",
      " 8   Выплаты другому           97 non-null     object        \n",
      " 9   Комплектация              97 non-null     object        \n",
      " 10  Цвет                      97 non-null     object        \n",
      " 11  комментарии               40 non-null     object        \n",
      " 12  модельный год             97 non-null     int32         \n",
      " 13  категория пробега         97 non-null     object        \n",
      "dtypes: datetime64[ns](1), float64(1), int32(5), object(7)\n",
      "memory usage: 9.5+ KB\n"
     ]
    }
   ],
   "source": [
    "df.info()"
   ]
  },
  {
   "cell_type": "code",
   "execution_count": 29,
   "metadata": {},
   "outputs": [
    {
     "name": "stdout",
     "output_type": "stream",
     "text": [
      "Средняя цена по всем автомобилям: 45.24 млн. вон\n"
     ]
    }
   ],
   "source": [
    "print(f\"Средняя цена по всем автомобилям: {round(df['цена'].mean(), 2)} млн. вон\")"
   ]
  },
  {
   "cell_type": "code",
   "execution_count": 30,
   "metadata": {},
   "outputs": [
    {
     "name": "stdout",
     "output_type": "stream",
     "text": [
      "Средний пробег по всем автомобилям: 32517.02 км\n"
     ]
    }
   ],
   "source": [
    "print(f\"Средний пробег по всем автомобилям: {round(df['пробег'].mean(), 2)} км\")"
   ]
  },
  {
   "cell_type": "code",
   "execution_count": null,
   "metadata": {},
   "outputs": [
    {
     "data": {
      "text/plain": [
       "(20.0, 55.0)"
      ]
     },
     "execution_count": 74,
     "metadata": {},
     "output_type": "execute_result"
    },
    {
     "data": {
      "image/png": "[encoded data removed]",
      "text/plain": [
       "<Figure size 640x480 with 1 Axes>"
      ]
     },
     "metadata": {},
     "output_type": "display_data"
    }
   ],
   "source": [
    "# Построим график распределения цены и пробега с градацией по количеству страховых случаев\n",
    "\n",
    "sns.scatterplot(data=df, x='пробег', y='цена', hue='Кол-во страховых случаев')\n",
    "plt.ylim(20, 55)"
   ]
  },
  {
   "cell_type": "code",
   "execution_count": null,
   "metadata": {},
   "outputs": [],
   "source": [
    "# Создаем отдельный датафрейм для модификации GLB250\n",
    "\n",
    "df_glb250 = df[df['модель'] == 250]"
   ]
  },
  {
   "cell_type": "code",
   "execution_count": 32,
   "metadata": {},
   "outputs": [
    {
     "name": "stdout",
     "output_type": "stream",
     "text": [
      "Средняя цена по glb250: 44.07 млн. вон\n"
     ]
    }
   ],
   "source": [
    "print(f\"Средняя цена по glb250: {round(df_glb250['цена'].mean(), 2)} млн. вон\")"
   ]
  },
  {
   "cell_type": "code",
   "execution_count": 33,
   "metadata": {},
   "outputs": [
    {
     "name": "stdout",
     "output_type": "stream",
     "text": [
      "Средний пробег по по glb250: 33570.49 км\n"
     ]
    }
   ],
   "source": [
    "print(f\"Средний пробег по по glb250: {round(df_glb250['пробег'].mean(), 2)} км\")"
   ]
  },
  {
   "cell_type": "code",
   "execution_count": 34,
   "metadata": {},
   "outputs": [
    {
     "data": {
      "text/html": [
       "<div>\n",
       "<style scoped>\n",
       "    .dataframe tbody tr th:only-of-type {\n",
       "        vertical-align: middle;\n",
       "    }\n",
       "\n",
       "    .dataframe tbody tr th {\n",
       "        vertical-align: top;\n",
       "    }\n",
       "\n",
       "    .dataframe thead th {\n",
       "        text-align: right;\n",
       "    }\n",
       "</style>\n",
       "<table border=\"1\" class=\"dataframe\">\n",
       "  <thead>\n",
       "    <tr style=\"text-align: right;\">\n",
       "      <th></th>\n",
       "      <th>модель</th>\n",
       "      <th>регистрация</th>\n",
       "      <th>VIN</th>\n",
       "      <th>выпуск</th>\n",
       "      <th>пробег</th>\n",
       "      <th>цена</th>\n",
       "      <th>Кол-во страховых случаев</th>\n",
       "      <th>Выплаты этому авто</th>\n",
       "      <th>Выплаты другому</th>\n",
       "      <th>Комплектация</th>\n",
       "      <th>Цвет</th>\n",
       "      <th>комментарии</th>\n",
       "      <th>модельный год</th>\n",
       "      <th>категория пробега</th>\n",
       "    </tr>\n",
       "  </thead>\n",
       "  <tbody>\n",
       "    <tr>\n",
       "      <th>0</th>\n",
       "      <td>250</td>\n",
       "      <td>2021-03-01</td>\n",
       "      <td>NaN</td>\n",
       "      <td>2020???</td>\n",
       "      <td>16156</td>\n",
       "      <td>45.90</td>\n",
       "      <td>1</td>\n",
       "      <td>587</td>\n",
       "      <td>190</td>\n",
       "      <td>однозонный климат, без воздуховодов</td>\n",
       "      <td>белый</td>\n",
       "      <td>NaN</td>\n",
       "      <td>2020</td>\n",
       "      <td>10000-20000</td>\n",
       "    </tr>\n",
       "    <tr>\n",
       "      <th>1</th>\n",
       "      <td>250</td>\n",
       "      <td>2021-02-01</td>\n",
       "      <td>101897</td>\n",
       "      <td>2020???</td>\n",
       "      <td>27500</td>\n",
       "      <td>44.90</td>\n",
       "      <td>0</td>\n",
       "      <td>0</td>\n",
       "      <td>0</td>\n",
       "      <td>однозонный климат, без воздуховодов</td>\n",
       "      <td>белый</td>\n",
       "      <td>NaN</td>\n",
       "      <td>2020</td>\n",
       "      <td>20000-30000</td>\n",
       "    </tr>\n",
       "    <tr>\n",
       "      <th>2</th>\n",
       "      <td>250</td>\n",
       "      <td>2021-09-01</td>\n",
       "      <td>152540</td>\n",
       "      <td>2021</td>\n",
       "      <td>41612</td>\n",
       "      <td>44.00</td>\n",
       "      <td>0</td>\n",
       "      <td>0</td>\n",
       "      <td>0</td>\n",
       "      <td>двузонный климат с задними воздуховодами</td>\n",
       "      <td>белый</td>\n",
       "      <td>продает оф. Дилер, скол на приборной панели</td>\n",
       "      <td>2021</td>\n",
       "      <td>40000-50000</td>\n",
       "    </tr>\n",
       "    <tr>\n",
       "      <th>4</th>\n",
       "      <td>250</td>\n",
       "      <td>2021-04-01</td>\n",
       "      <td>106777</td>\n",
       "      <td>2020???</td>\n",
       "      <td>35301</td>\n",
       "      <td>43.90</td>\n",
       "      <td>0</td>\n",
       "      <td>0</td>\n",
       "      <td>0</td>\n",
       "      <td>однозонный климат, без воздуховодов</td>\n",
       "      <td>черный</td>\n",
       "      <td>NaN</td>\n",
       "      <td>2020</td>\n",
       "      <td>30000-40000</td>\n",
       "    </tr>\n",
       "    <tr>\n",
       "      <th>5</th>\n",
       "      <td>250</td>\n",
       "      <td>2021-03-01</td>\n",
       "      <td>92104</td>\n",
       "      <td>2020???</td>\n",
       "      <td>38218</td>\n",
       "      <td>37.89</td>\n",
       "      <td>2</td>\n",
       "      <td>16700</td>\n",
       "      <td>1563</td>\n",
       "      <td>однозонный климат с задними воздуховодами</td>\n",
       "      <td>черный</td>\n",
       "      <td>NaN</td>\n",
       "      <td>2020</td>\n",
       "      <td>30000-40000</td>\n",
       "    </tr>\n",
       "    <tr>\n",
       "      <th>...</th>\n",
       "      <td>...</td>\n",
       "      <td>...</td>\n",
       "      <td>...</td>\n",
       "      <td>...</td>\n",
       "      <td>...</td>\n",
       "      <td>...</td>\n",
       "      <td>...</td>\n",
       "      <td>...</td>\n",
       "      <td>...</td>\n",
       "      <td>...</td>\n",
       "      <td>...</td>\n",
       "      <td>...</td>\n",
       "      <td>...</td>\n",
       "      <td>...</td>\n",
       "    </tr>\n",
       "    <tr>\n",
       "      <th>101</th>\n",
       "      <td>250</td>\n",
       "      <td>2021-02-01</td>\n",
       "      <td>NaN</td>\n",
       "      <td>2020???</td>\n",
       "      <td>34091</td>\n",
       "      <td>45.00</td>\n",
       "      <td>0</td>\n",
       "      <td>0</td>\n",
       "      <td>0</td>\n",
       "      <td>однозонный климат, без воздуховодов, 5 мест</td>\n",
       "      <td>белый</td>\n",
       "      <td>NaN</td>\n",
       "      <td>2020</td>\n",
       "      <td>30000-40000</td>\n",
       "    </tr>\n",
       "    <tr>\n",
       "      <th>104</th>\n",
       "      <td>250</td>\n",
       "      <td>2021-06-01</td>\n",
       "      <td>NaN</td>\n",
       "      <td>2021</td>\n",
       "      <td>16427</td>\n",
       "      <td>43.80</td>\n",
       "      <td>1</td>\n",
       "      <td>2106</td>\n",
       "      <td>0</td>\n",
       "      <td>двузонный климат с задними воздуховодами  5 мест</td>\n",
       "      <td>белый</td>\n",
       "      <td>NaN</td>\n",
       "      <td>2021</td>\n",
       "      <td>10000-20000</td>\n",
       "    </tr>\n",
       "    <tr>\n",
       "      <th>105</th>\n",
       "      <td>250</td>\n",
       "      <td>2021-01-01</td>\n",
       "      <td>NaN</td>\n",
       "      <td>2020???</td>\n",
       "      <td>43643</td>\n",
       "      <td>41.50</td>\n",
       "      <td>2</td>\n",
       "      <td>0</td>\n",
       "      <td>611</td>\n",
       "      <td>однозонный климат, без воздуховодов, 5 мест</td>\n",
       "      <td>белый</td>\n",
       "      <td>белый перламутр</td>\n",
       "      <td>2020</td>\n",
       "      <td>40000-50000</td>\n",
       "    </tr>\n",
       "    <tr>\n",
       "      <th>106</th>\n",
       "      <td>250</td>\n",
       "      <td>2021-05-01</td>\n",
       "      <td>113637</td>\n",
       "      <td>2021</td>\n",
       "      <td>33061</td>\n",
       "      <td>39.50</td>\n",
       "      <td>3</td>\n",
       "      <td>13146</td>\n",
       "      <td>805</td>\n",
       "      <td>двузонный климат с задними воздуховодами  5 мест</td>\n",
       "      <td>белый</td>\n",
       "      <td>NaN</td>\n",
       "      <td>2021</td>\n",
       "      <td>30000-40000</td>\n",
       "    </tr>\n",
       "    <tr>\n",
       "      <th>107</th>\n",
       "      <td>250</td>\n",
       "      <td>2021-04-01</td>\n",
       "      <td>87836</td>\n",
       "      <td>2020???</td>\n",
       "      <td>28851</td>\n",
       "      <td>42.50</td>\n",
       "      <td>1</td>\n",
       "      <td>6638</td>\n",
       "      <td>536</td>\n",
       "      <td>1 зонный климат с задними воздуховодами, 5 мест</td>\n",
       "      <td>серый</td>\n",
       "      <td>NaN</td>\n",
       "      <td>2020</td>\n",
       "      <td>20000-30000</td>\n",
       "    </tr>\n",
       "  </tbody>\n",
       "</table>\n",
       "<p>76 rows × 14 columns</p>\n",
       "</div>"
      ],
      "text/plain": [
       "     модель регистрация     VIN   выпуск  пробег   цена  \\\n",
       "0       250  2021-03-01     NaN  2020???   16156  45.90   \n",
       "1       250  2021-02-01  101897  2020???   27500  44.90   \n",
       "2       250  2021-09-01  152540     2021   41612  44.00   \n",
       "4       250  2021-04-01  106777  2020???   35301  43.90   \n",
       "5       250  2021-03-01   92104  2020???   38218  37.89   \n",
       "..      ...         ...     ...      ...     ...    ...   \n",
       "101     250  2021-02-01     NaN  2020???   34091  45.00   \n",
       "104     250  2021-06-01     NaN     2021   16427  43.80   \n",
       "105     250  2021-01-01     NaN  2020???   43643  41.50   \n",
       "106     250  2021-05-01  113637     2021   33061  39.50   \n",
       "107     250  2021-04-01   87836  2020???   28851  42.50   \n",
       "\n",
       "     Кол-во страховых случаев  Выплаты этому авто Выплаты другому  \\\n",
       "0                           1                 587             190   \n",
       "1                           0                   0               0   \n",
       "2                           0                   0               0   \n",
       "4                           0                   0               0   \n",
       "5                           2               16700            1563   \n",
       "..                        ...                 ...             ...   \n",
       "101                         0                   0               0   \n",
       "104                         1                2106               0   \n",
       "105                         2                   0             611   \n",
       "106                         3               13146             805   \n",
       "107                         1                6638             536   \n",
       "\n",
       "                                         Комплектация    Цвет  \\\n",
       "0                 однозонный климат, без воздуховодов   белый   \n",
       "1                 однозонный климат, без воздуховодов   белый   \n",
       "2            двузонный климат с задними воздуховодами   белый   \n",
       "4                 однозонный климат, без воздуховодов  черный   \n",
       "5           однозонный климат с задними воздуховодами  черный   \n",
       "..                                                ...     ...   \n",
       "101       однозонный климат, без воздуховодов, 5 мест   белый   \n",
       "104  двузонный климат с задними воздуховодами  5 мест   белый   \n",
       "105       однозонный климат, без воздуховодов, 5 мест   белый   \n",
       "106  двузонный климат с задними воздуховодами  5 мест   белый   \n",
       "107   1 зонный климат с задними воздуховодами, 5 мест   серый   \n",
       "\n",
       "                                     комментарии  модельный год  \\\n",
       "0                                            NaN           2020   \n",
       "1                                            NaN           2020   \n",
       "2    продает оф. Дилер, скол на приборной панели           2021   \n",
       "4                                            NaN           2020   \n",
       "5                                            NaN           2020   \n",
       "..                                           ...            ...   \n",
       "101                                          NaN           2020   \n",
       "104                                          NaN           2021   \n",
       "105                              белый перламутр           2020   \n",
       "106                                          NaN           2021   \n",
       "107                                          NaN           2020   \n",
       "\n",
       "    категория пробега  \n",
       "0         10000-20000  \n",
       "1         20000-30000  \n",
       "2         40000-50000  \n",
       "4         30000-40000  \n",
       "5         30000-40000  \n",
       "..                ...  \n",
       "101       30000-40000  \n",
       "104       10000-20000  \n",
       "105       40000-50000  \n",
       "106       30000-40000  \n",
       "107       20000-30000  \n",
       "\n",
       "[76 rows x 14 columns]"
      ]
     },
     "execution_count": 34,
     "metadata": {},
     "output_type": "execute_result"
    }
   ],
   "source": [
    "df_glb250"
   ]
  },
  {
   "cell_type": "code",
   "execution_count": null,
   "metadata": {},
   "outputs": [],
   "source": [
    "# Создаем отдельный датафрейм для модификации GLB35\n",
    "\n",
    "df_glb35 = df[df['модель'] == 35]"
   ]
  },
  {
   "cell_type": "code",
   "execution_count": 36,
   "metadata": {},
   "outputs": [
    {
     "name": "stdout",
     "output_type": "stream",
     "text": [
      "<class 'pandas.core.frame.DataFrame'>\n",
      "Index: 21 entries, 3 to 103\n",
      "Data columns (total 14 columns):\n",
      " #   Column                    Non-Null Count  Dtype         \n",
      "---  ------                    --------------  -----         \n",
      " 0   модель                    21 non-null     int32         \n",
      " 1   регистрация               21 non-null     datetime64[ns]\n",
      " 2   VIN                       16 non-null     object        \n",
      " 3   выпуск                    21 non-null     object        \n",
      " 4   пробег                    21 non-null     int32         \n",
      " 5   цена                      21 non-null     float64       \n",
      " 6   Кол-во страховых случаев  21 non-null     int32         \n",
      " 7   Выплаты этому авто        21 non-null     int32         \n",
      " 8   Выплаты другому           21 non-null     object        \n",
      " 9   Комплектация              21 non-null     object        \n",
      " 10  Цвет                      21 non-null     object        \n",
      " 11  комментарии               6 non-null      object        \n",
      " 12  модельный год             21 non-null     int32         \n",
      " 13  категория пробега         21 non-null     object        \n",
      "dtypes: datetime64[ns](1), float64(1), int32(5), object(7)\n",
      "memory usage: 2.1+ KB\n"
     ]
    }
   ],
   "source": [
    "df_glb35.info()"
   ]
  },
  {
   "cell_type": "code",
   "execution_count": 37,
   "metadata": {},
   "outputs": [
    {
     "name": "stdout",
     "output_type": "stream",
     "text": [
      "<class 'pandas.core.frame.DataFrame'>\n",
      "Index: 76 entries, 0 to 107\n",
      "Data columns (total 14 columns):\n",
      " #   Column                    Non-Null Count  Dtype         \n",
      "---  ------                    --------------  -----         \n",
      " 0   модель                    76 non-null     int32         \n",
      " 1   регистрация               76 non-null     datetime64[ns]\n",
      " 2   VIN                       46 non-null     object        \n",
      " 3   выпуск                    73 non-null     object        \n",
      " 4   пробег                    76 non-null     int32         \n",
      " 5   цена                      76 non-null     float64       \n",
      " 6   Кол-во страховых случаев  76 non-null     int32         \n",
      " 7   Выплаты этому авто        76 non-null     int32         \n",
      " 8   Выплаты другому           76 non-null     object        \n",
      " 9   Комплектация              76 non-null     object        \n",
      " 10  Цвет                      76 non-null     object        \n",
      " 11  комментарии               34 non-null     object        \n",
      " 12  модельный год             76 non-null     int32         \n",
      " 13  категория пробега         76 non-null     object        \n",
      "dtypes: datetime64[ns](1), float64(1), int32(5), object(7)\n",
      "memory usage: 7.4+ KB\n"
     ]
    }
   ],
   "source": [
    "df_glb250.info()"
   ]
  },
  {
   "cell_type": "code",
   "execution_count": 38,
   "metadata": {},
   "outputs": [
    {
     "name": "stdout",
     "output_type": "stream",
     "text": [
      "Средняя цена по glb35: 49.48 млн. вон\n"
     ]
    }
   ],
   "source": [
    "print(f\"Средняя цена по glb35: {round(df_glb35['цена'].mean(), 2)} млн. вон\")"
   ]
  },
  {
   "cell_type": "code",
   "execution_count": 39,
   "metadata": {},
   "outputs": [
    {
     "name": "stdout",
     "output_type": "stream",
     "text": [
      "Средний пробег по по glb35: 28704.48 км\n"
     ]
    }
   ],
   "source": [
    "print(f\"Средний пробег по по glb35: {round(df_glb35['пробег'].mean(), 2)} км\")"
   ]
  },
  {
   "cell_type": "code",
   "execution_count": 40,
   "metadata": {},
   "outputs": [
    {
     "data": {
      "text/plain": [
       "Кол-во страховых случаев\n",
       "0    35\n",
       "1    26\n",
       "2    11\n",
       "3     3\n",
       "7     1\n",
       "Name: count, dtype: int64"
      ]
     },
     "execution_count": 40,
     "metadata": {},
     "output_type": "execute_result"
    }
   ],
   "source": [
    "df_glb250['Кол-во страховых случаев'].value_counts()"
   ]
  },
  {
   "cell_type": "code",
   "execution_count": 41,
   "metadata": {},
   "outputs": [],
   "source": [
    "df_glb250_no_as = df_glb250[df_glb250['Кол-во страховых случаев'] == 0]"
   ]
  },
  {
   "cell_type": "code",
   "execution_count": 42,
   "metadata": {},
   "outputs": [
    {
     "data": {
      "text/plain": [
       "(20.0, 50.0)"
      ]
     },
     "execution_count": 42,
     "metadata": {},
     "output_type": "execute_result"
    },
    {
     "data": {
      "image/png": "[encoded data removed]",
      "text/plain": [
       "<Figure size 640x480 with 1 Axes>"
      ]
     },
     "metadata": {},
     "output_type": "display_data"
    }
   ],
   "source": [
    "# ищем выбросы среди автомобилей glb250 без страховых выплат\n",
    "\n",
    "sns.scatterplot(data=df_glb250_no_as, x='пробег', y='цена')\n",
    "plt.ylim(20, 50)"
   ]
  },
  {
   "cell_type": "code",
   "execution_count": 43,
   "metadata": {},
   "outputs": [
    {
     "data": {
      "text/plain": [
       "44.61"
      ]
     },
     "execution_count": 43,
     "metadata": {},
     "output_type": "execute_result"
    }
   ],
   "source": [
    "# средняя цена glb250 без страховых случаев до удаления выброса\n",
    "round(df_glb250_no_as['цена'].mean(), 2)"
   ]
  },
  {
   "cell_type": "code",
   "execution_count": 44,
   "metadata": {},
   "outputs": [],
   "source": [
    "# Удаляем выброс\n",
    "\n",
    "df_glb250_no_as = df_glb250_no_as[df_glb250_no_as['цена'] >= 40]"
   ]
  },
  {
   "cell_type": "code",
   "execution_count": 45,
   "metadata": {},
   "outputs": [
    {
     "data": {
      "text/plain": [
       "(20.0, 50.0)"
      ]
     },
     "execution_count": 45,
     "metadata": {},
     "output_type": "execute_result"
    },
    {
     "data": {
      "image/png": "[encoded data removed]",
      "text/plain": [
       "<Figure size 640x480 with 1 Axes>"
      ]
     },
     "metadata": {},
     "output_type": "display_data"
    }
   ],
   "source": [
    "# смотрим график после удаления выброса\n",
    "sns.scatterplot(data=df_glb250_no_as, x='пробег', y='цена')\n",
    "plt.ylim(20, 50)"
   ]
  },
  {
   "cell_type": "code",
   "execution_count": 46,
   "metadata": {},
   "outputs": [
    {
     "data": {
      "text/plain": [
       "44.9"
      ]
     },
     "execution_count": 46,
     "metadata": {},
     "output_type": "execute_result"
    }
   ],
   "source": [
    "# средняя цена glb250 без страховых случаев после удаления выброса\n",
    "round(df_glb250_no_as['цена'].mean(), 2)"
   ]
  },
  {
   "cell_type": "code",
   "execution_count": 47,
   "metadata": {},
   "outputs": [
    {
     "data": {
      "text/plain": [
       "32420"
      ]
     },
     "execution_count": 47,
     "metadata": {},
     "output_type": "execute_result"
    }
   ],
   "source": [
    "# средний пробег glb250 без страховых случаев после удаления выброса\n",
    "round(df_glb250_no_as['пробег'].mean())"
   ]
  },
  {
   "cell_type": "code",
   "execution_count": 48,
   "metadata": {},
   "outputs": [],
   "source": [
    "df_glb250_as = df_glb250[df_glb250['Кол-во страховых случаев'] > 0]"
   ]
  },
  {
   "cell_type": "code",
   "execution_count": 49,
   "metadata": {},
   "outputs": [
    {
     "data": {
      "text/plain": [
       "43.61"
      ]
     },
     "execution_count": 49,
     "metadata": {},
     "output_type": "execute_result"
    }
   ],
   "source": [
    "# средняя цена glb250 со страховыми случаями \n",
    "\n",
    "round(df_glb250_as['цена'].mean(), 2)"
   ]
  },
  {
   "cell_type": "code",
   "execution_count": 50,
   "metadata": {},
   "outputs": [
    {
     "data": {
      "text/html": [
       "<div>\n",
       "<style scoped>\n",
       "    .dataframe tbody tr th:only-of-type {\n",
       "        vertical-align: middle;\n",
       "    }\n",
       "\n",
       "    .dataframe tbody tr th {\n",
       "        vertical-align: top;\n",
       "    }\n",
       "\n",
       "    .dataframe thead th {\n",
       "        text-align: right;\n",
       "    }\n",
       "</style>\n",
       "<table border=\"1\" class=\"dataframe\">\n",
       "  <thead>\n",
       "    <tr style=\"text-align: right;\">\n",
       "      <th></th>\n",
       "      <th>модель</th>\n",
       "      <th>регистрация</th>\n",
       "      <th>VIN</th>\n",
       "      <th>выпуск</th>\n",
       "      <th>пробег</th>\n",
       "      <th>цена</th>\n",
       "      <th>Кол-во страховых случаев</th>\n",
       "      <th>Выплаты этому авто</th>\n",
       "      <th>Выплаты другому</th>\n",
       "      <th>Комплектация</th>\n",
       "      <th>Цвет</th>\n",
       "      <th>комментарии</th>\n",
       "      <th>модельный год</th>\n",
       "      <th>категория пробега</th>\n",
       "    </tr>\n",
       "  </thead>\n",
       "  <tbody>\n",
       "    <tr>\n",
       "      <th>94</th>\n",
       "      <td>250</td>\n",
       "      <td>2021-08-01</td>\n",
       "      <td>NaN</td>\n",
       "      <td>2021</td>\n",
       "      <td>44300</td>\n",
       "      <td>34.9</td>\n",
       "      <td>0</td>\n",
       "      <td>0</td>\n",
       "      <td>0</td>\n",
       "      <td>двузонный климат с задними воздуховодами  7 мест</td>\n",
       "      <td>белый</td>\n",
       "      <td>продает частник, машина явно после дтп</td>\n",
       "      <td>2021</td>\n",
       "      <td>40000-50000</td>\n",
       "    </tr>\n",
       "  </tbody>\n",
       "</table>\n",
       "</div>"
      ],
      "text/plain": [
       "    модель регистрация  VIN выпуск  пробег  цена  Кол-во страховых случаев  \\\n",
       "94     250  2021-08-01  NaN   2021   44300  34.9                         0   \n",
       "\n",
       "    Выплаты этому авто Выплаты другому  \\\n",
       "94                   0               0   \n",
       "\n",
       "                                        Комплектация   Цвет  \\\n",
       "94  двузонный климат с задними воздуховодами  7 мест  белый   \n",
       "\n",
       "                               комментарии  модельный год категория пробега  \n",
       "94  продает частник, машина явно после дтп           2021       40000-50000  "
      ]
     },
     "execution_count": 50,
     "metadata": {},
     "output_type": "execute_result"
    }
   ],
   "source": [
    "# выброс  \n",
    "\n",
    "df_glb250[(df_glb250['Кол-во страховых случаев'] == 0) & (df_glb250['цена'] < 40 )]"
   ]
  },
  {
   "cell_type": "code",
   "execution_count": 51,
   "metadata": {},
   "outputs": [],
   "source": [
    "# переносим выброс в датафрейм со страхоывми случаями\n",
    "\n",
    "df_glb250_as = pd.concat([df_glb250_as, df_glb250[(df_glb250['Кол-во страховых случаев'] == 0) & (df_glb250['цена'] < 40 )]])"
   ]
  },
  {
   "cell_type": "code",
   "execution_count": 52,
   "metadata": {},
   "outputs": [
    {
     "data": {
      "text/plain": [
       "43.4"
      ]
     },
     "execution_count": 52,
     "metadata": {},
     "output_type": "execute_result"
    }
   ],
   "source": [
    "# средняя цена glb250 со страховыми случаями после переноса выброса \n",
    "\n",
    "round(df_glb250_as['цена'].mean(), 2)"
   ]
  },
  {
   "cell_type": "code",
   "execution_count": 53,
   "metadata": {},
   "outputs": [
    {
     "data": {
      "text/plain": [
       "34502"
      ]
     },
     "execution_count": 53,
     "metadata": {},
     "output_type": "execute_result"
    }
   ],
   "source": [
    "# средний пробег glb250 со страховыми случаями после переноса выброса\n",
    "round(df_glb250_as['пробег'].mean())"
   ]
  },
  {
   "cell_type": "code",
   "execution_count": 54,
   "metadata": {},
   "outputs": [
    {
     "data": {
      "image/png": "[encoded data removed]",
      "text/plain": [
       "<Figure size 640x480 with 1 Axes>"
      ]
     },
     "metadata": {},
     "output_type": "display_data"
    }
   ],
   "source": [
    "\n",
    "order = df['Цвет'].value_counts().index\n",
    "ax = sns.countplot(data=df, x='Цвет', order = order)\n",
    "plt.xticks(rotation=45)\n",
    "plt.title('График распределения цветов по всем автомобилям')\n",
    "\n",
    "for container in ax.containers:\n",
    "    ax.bar_label(container)\n",
    "\n",
    "plt.show()"
   ]
  },
  {
   "cell_type": "code",
   "execution_count": 55,
   "metadata": {},
   "outputs": [
    {
     "data": {
      "image/png": "[encoded data removed]",
      "text/plain": [
       "<Figure size 640x480 with 1 Axes>"
      ]
     },
     "metadata": {},
     "output_type": "display_data"
    }
   ],
   "source": [
    "order = df_glb250['Цвет'].value_counts().index\n",
    "ax = sns.countplot(data=df_glb250, x='Цвет', order = order)\n",
    "plt.xticks(rotation=45)\n",
    "plt.title('График распределения цветов по glb250')\n",
    "\n",
    "for container in ax.containers:\n",
    "    ax.bar_label(container)\n",
    "\n",
    "plt.show()"
   ]
  },
  {
   "cell_type": "code",
   "execution_count": 56,
   "metadata": {},
   "outputs": [
    {
     "data": {
      "image/png": "[encoded data removed]",
      "text/plain": [
       "<Figure size 640x480 with 1 Axes>"
      ]
     },
     "metadata": {},
     "output_type": "display_data"
    }
   ],
   "source": [
    "order = df_glb35['Цвет'].value_counts().index\n",
    "ax = sns.countplot(data=df_glb35, x='Цвет', order = order)\n",
    "plt.xticks(rotation=45)\n",
    "plt.title('График распределения цветов по glb35')\n",
    "\n",
    "for container in ax.containers:\n",
    "    ax.bar_label(container)\n",
    "\n",
    "plt.show()"
   ]
  },
  {
   "cell_type": "code",
   "execution_count": 57,
   "metadata": {},
   "outputs": [
    {
     "data": {
      "text/plain": [
       "22726"
      ]
     },
     "execution_count": 57,
     "metadata": {},
     "output_type": "execute_result"
    }
   ],
   "source": [
    "# средний пробег glb250 без страховых случаев при выборке машин с пробегом до 30 000 км\n",
    "\n",
    "round(df_glb250_no_as[df_glb250_no_as['пробег'] <= 30000]['пробег'].mean())"
   ]
  },
  {
   "cell_type": "code",
   "execution_count": 58,
   "metadata": {},
   "outputs": [
    {
     "data": {
      "text/plain": [
       "46.04"
      ]
     },
     "execution_count": 58,
     "metadata": {},
     "output_type": "execute_result"
    }
   ],
   "source": [
    "# средняя цена glb250 без страховых случаев c пробегом до 30 000 км\n",
    "\n",
    "round(df_glb250_no_as[df_glb250_no_as['пробег'] <= 30000]['цена'].mean(), 2)"
   ]
  },
  {
   "cell_type": "code",
   "execution_count": 59,
   "metadata": {},
   "outputs": [
    {
     "data": {
      "text/html": [
       "<div>\n",
       "<style scoped>\n",
       "    .dataframe tbody tr th:only-of-type {\n",
       "        vertical-align: middle;\n",
       "    }\n",
       "\n",
       "    .dataframe tbody tr th {\n",
       "        vertical-align: top;\n",
       "    }\n",
       "\n",
       "    .dataframe thead th {\n",
       "        text-align: right;\n",
       "    }\n",
       "</style>\n",
       "<table border=\"1\" class=\"dataframe\">\n",
       "  <thead>\n",
       "    <tr style=\"text-align: right;\">\n",
       "      <th></th>\n",
       "      <th>модель</th>\n",
       "      <th>регистрация</th>\n",
       "      <th>VIN</th>\n",
       "      <th>выпуск</th>\n",
       "      <th>пробег</th>\n",
       "      <th>цена</th>\n",
       "      <th>Кол-во страховых случаев</th>\n",
       "      <th>Выплаты этому авто</th>\n",
       "      <th>Выплаты другому</th>\n",
       "      <th>Комплектация</th>\n",
       "      <th>Цвет</th>\n",
       "      <th>комментарии</th>\n",
       "      <th>модельный год</th>\n",
       "      <th>категория пробега</th>\n",
       "    </tr>\n",
       "  </thead>\n",
       "  <tbody>\n",
       "    <tr>\n",
       "      <th>1</th>\n",
       "      <td>250</td>\n",
       "      <td>2021-02-01</td>\n",
       "      <td>101897</td>\n",
       "      <td>2020???</td>\n",
       "      <td>27500</td>\n",
       "      <td>44.9</td>\n",
       "      <td>0</td>\n",
       "      <td>0</td>\n",
       "      <td>0</td>\n",
       "      <td>однозонный климат, без воздуховодов</td>\n",
       "      <td>белый</td>\n",
       "      <td>NaN</td>\n",
       "      <td>2020</td>\n",
       "      <td>20000-30000</td>\n",
       "    </tr>\n",
       "    <tr>\n",
       "      <th>29</th>\n",
       "      <td>250</td>\n",
       "      <td>2021-02-01</td>\n",
       "      <td>NaN</td>\n",
       "      <td>2020???</td>\n",
       "      <td>26433</td>\n",
       "      <td>44.0</td>\n",
       "      <td>0</td>\n",
       "      <td>0</td>\n",
       "      <td>0</td>\n",
       "      <td>однозонный климат, без воздуховодов</td>\n",
       "      <td>белый</td>\n",
       "      <td>загаженный багажник</td>\n",
       "      <td>2020</td>\n",
       "      <td>20000-30000</td>\n",
       "    </tr>\n",
       "    <tr>\n",
       "      <th>38</th>\n",
       "      <td>250</td>\n",
       "      <td>2021-10-01</td>\n",
       "      <td>155073</td>\n",
       "      <td>2021</td>\n",
       "      <td>18812</td>\n",
       "      <td>48.0</td>\n",
       "      <td>0</td>\n",
       "      <td>0</td>\n",
       "      <td>0</td>\n",
       "      <td>двузонный климат с задними воздуховодами, 7 мест</td>\n",
       "      <td>серебристый</td>\n",
       "      <td>NaN</td>\n",
       "      <td>2021</td>\n",
       "      <td>10000-20000</td>\n",
       "    </tr>\n",
       "    <tr>\n",
       "      <th>39</th>\n",
       "      <td>250</td>\n",
       "      <td>2021-04-01</td>\n",
       "      <td>NaN</td>\n",
       "      <td>NaN</td>\n",
       "      <td>26000</td>\n",
       "      <td>44.0</td>\n",
       "      <td>0</td>\n",
       "      <td>0</td>\n",
       "      <td>0</td>\n",
       "      <td>???</td>\n",
       "      <td>черный</td>\n",
       "      <td>NaN</td>\n",
       "      <td>2020</td>\n",
       "      <td>20000-30000</td>\n",
       "    </tr>\n",
       "    <tr>\n",
       "      <th>40</th>\n",
       "      <td>250</td>\n",
       "      <td>2021-04-01</td>\n",
       "      <td>106025</td>\n",
       "      <td>2020???</td>\n",
       "      <td>14305</td>\n",
       "      <td>46.5</td>\n",
       "      <td>0</td>\n",
       "      <td>0</td>\n",
       "      <td>0</td>\n",
       "      <td>однозонный климат, без воздуховодов, 5 мест</td>\n",
       "      <td>белый</td>\n",
       "      <td>cветлый салон на экокоже</td>\n",
       "      <td>2020</td>\n",
       "      <td>10000-20000</td>\n",
       "    </tr>\n",
       "    <tr>\n",
       "      <th>48</th>\n",
       "      <td>250</td>\n",
       "      <td>2021-04-01</td>\n",
       "      <td>NaN</td>\n",
       "      <td>2020???</td>\n",
       "      <td>20781</td>\n",
       "      <td>48.0</td>\n",
       "      <td>0</td>\n",
       "      <td>0</td>\n",
       "      <td>0</td>\n",
       "      <td>однозонный климат, без воздуховодов, 7 мест</td>\n",
       "      <td>белый</td>\n",
       "      <td>продает оф. Дилер</td>\n",
       "      <td>2020</td>\n",
       "      <td>20000-30000</td>\n",
       "    </tr>\n",
       "    <tr>\n",
       "      <th>67</th>\n",
       "      <td>250</td>\n",
       "      <td>2021-01-01</td>\n",
       "      <td>NaN</td>\n",
       "      <td>2020???</td>\n",
       "      <td>21750</td>\n",
       "      <td>46.6</td>\n",
       "      <td>0</td>\n",
       "      <td>0</td>\n",
       "      <td>0</td>\n",
       "      <td>однозонный климат, без воздуховодов, 5 мест</td>\n",
       "      <td>белый</td>\n",
       "      <td>Болты передних крыльев подозрительные</td>\n",
       "      <td>2020</td>\n",
       "      <td>20000-30000</td>\n",
       "    </tr>\n",
       "    <tr>\n",
       "      <th>70</th>\n",
       "      <td>250</td>\n",
       "      <td>2021-03-01</td>\n",
       "      <td>NaN</td>\n",
       "      <td>2020???</td>\n",
       "      <td>16434</td>\n",
       "      <td>47.5</td>\n",
       "      <td>0</td>\n",
       "      <td>0</td>\n",
       "      <td>0</td>\n",
       "      <td>однозонный климат с задними воздуховодами с по...</td>\n",
       "      <td>белый</td>\n",
       "      <td>NaN</td>\n",
       "      <td>2020</td>\n",
       "      <td>10000-20000</td>\n",
       "    </tr>\n",
       "    <tr>\n",
       "      <th>81</th>\n",
       "      <td>250</td>\n",
       "      <td>2021-03-01</td>\n",
       "      <td>79879</td>\n",
       "      <td>2020</td>\n",
       "      <td>27742</td>\n",
       "      <td>45.5</td>\n",
       "      <td>0</td>\n",
       "      <td>0</td>\n",
       "      <td>0</td>\n",
       "      <td>однозонный климат с задними воздуховодами, 5 мест</td>\n",
       "      <td>белый</td>\n",
       "      <td>NaN</td>\n",
       "      <td>2020</td>\n",
       "      <td>20000-30000</td>\n",
       "    </tr>\n",
       "    <tr>\n",
       "      <th>84</th>\n",
       "      <td>250</td>\n",
       "      <td>2021-02-01</td>\n",
       "      <td>104375</td>\n",
       "      <td>2020???</td>\n",
       "      <td>22262</td>\n",
       "      <td>46.0</td>\n",
       "      <td>0</td>\n",
       "      <td>0</td>\n",
       "      <td>0</td>\n",
       "      <td>однозонный климат, без воздуховодов, 5 мест</td>\n",
       "      <td>белый</td>\n",
       "      <td>тюнингованые выхлопные трубы, черные</td>\n",
       "      <td>2020</td>\n",
       "      <td>20000-30000</td>\n",
       "    </tr>\n",
       "    <tr>\n",
       "      <th>86</th>\n",
       "      <td>250</td>\n",
       "      <td>2021-04-01</td>\n",
       "      <td>93962</td>\n",
       "      <td>2020???</td>\n",
       "      <td>23737</td>\n",
       "      <td>45.5</td>\n",
       "      <td>0</td>\n",
       "      <td>0</td>\n",
       "      <td>0</td>\n",
       "      <td>однозонный климат, без воздуховодов, 7 мест</td>\n",
       "      <td>белый</td>\n",
       "      <td>горит чек энджин</td>\n",
       "      <td>2020</td>\n",
       "      <td>20000-30000</td>\n",
       "    </tr>\n",
       "    <tr>\n",
       "      <th>91</th>\n",
       "      <td>250</td>\n",
       "      <td>2021-03-01</td>\n",
       "      <td>NaN</td>\n",
       "      <td>2020???</td>\n",
       "      <td>26147</td>\n",
       "      <td>46.5</td>\n",
       "      <td>0</td>\n",
       "      <td>0</td>\n",
       "      <td>0</td>\n",
       "      <td>однозонный климат, без воздуховодов, 5 мест</td>\n",
       "      <td>черный</td>\n",
       "      <td>коричневый кожаный салон</td>\n",
       "      <td>2020</td>\n",
       "      <td>20000-30000</td>\n",
       "    </tr>\n",
       "    <tr>\n",
       "      <th>99</th>\n",
       "      <td>250</td>\n",
       "      <td>2021-06-01</td>\n",
       "      <td>120257</td>\n",
       "      <td>2021</td>\n",
       "      <td>23531</td>\n",
       "      <td>45.5</td>\n",
       "      <td>0</td>\n",
       "      <td>0</td>\n",
       "      <td>0</td>\n",
       "      <td>двузонный климат с задними воздуховодами  5 мест</td>\n",
       "      <td>белый</td>\n",
       "      <td>AMG решетка</td>\n",
       "      <td>2021</td>\n",
       "      <td>20000-30000</td>\n",
       "    </tr>\n",
       "  </tbody>\n",
       "</table>\n",
       "</div>"
      ],
      "text/plain": [
       "    модель регистрация     VIN   выпуск  пробег  цена  \\\n",
       "1      250  2021-02-01  101897  2020???   27500  44.9   \n",
       "29     250  2021-02-01     NaN  2020???   26433  44.0   \n",
       "38     250  2021-10-01  155073     2021   18812  48.0   \n",
       "39     250  2021-04-01     NaN      NaN   26000  44.0   \n",
       "40     250  2021-04-01  106025  2020???   14305  46.5   \n",
       "48     250  2021-04-01     NaN  2020???   20781  48.0   \n",
       "67     250  2021-01-01     NaN  2020???   21750  46.6   \n",
       "70     250  2021-03-01     NaN  2020???   16434  47.5   \n",
       "81     250  2021-03-01   79879     2020   27742  45.5   \n",
       "84     250  2021-02-01  104375  2020???   22262  46.0   \n",
       "86     250  2021-04-01   93962  2020???   23737  45.5   \n",
       "91     250  2021-03-01     NaN  2020???   26147  46.5   \n",
       "99     250  2021-06-01  120257     2021   23531  45.5   \n",
       "\n",
       "    Кол-во страховых случаев  Выплаты этому авто Выплаты другому  \\\n",
       "1                          0                   0               0   \n",
       "29                         0                   0               0   \n",
       "38                         0                   0               0   \n",
       "39                         0                   0               0   \n",
       "40                         0                   0               0   \n",
       "48                         0                   0               0   \n",
       "67                         0                   0               0   \n",
       "70                         0                   0               0   \n",
       "81                         0                   0               0   \n",
       "84                         0                   0               0   \n",
       "86                         0                   0               0   \n",
       "91                         0                   0               0   \n",
       "99                         0                   0               0   \n",
       "\n",
       "                                         Комплектация         Цвет  \\\n",
       "1                 однозонный климат, без воздуховодов        белый   \n",
       "29                однозонный климат, без воздуховодов        белый   \n",
       "38   двузонный климат с задними воздуховодами, 7 мест  серебристый   \n",
       "39                                                ???       черный   \n",
       "40        однозонный климат, без воздуховодов, 5 мест        белый   \n",
       "48        однозонный климат, без воздуховодов, 7 мест        белый   \n",
       "67        однозонный климат, без воздуховодов, 5 мест        белый   \n",
       "70  однозонный климат с задними воздуховодами с по...        белый   \n",
       "81  однозонный климат с задними воздуховодами, 5 мест        белый   \n",
       "84        однозонный климат, без воздуховодов, 5 мест        белый   \n",
       "86        однозонный климат, без воздуховодов, 7 мест        белый   \n",
       "91        однозонный климат, без воздуховодов, 5 мест       черный   \n",
       "99   двузонный климат с задними воздуховодами  5 мест        белый   \n",
       "\n",
       "                              комментарии  модельный год категория пробега  \n",
       "1                                     NaN           2020       20000-30000  \n",
       "29                    загаженный багажник           2020       20000-30000  \n",
       "38                                    NaN           2021       10000-20000  \n",
       "39                                    NaN           2020       20000-30000  \n",
       "40               cветлый салон на экокоже           2020       10000-20000  \n",
       "48                      продает оф. Дилер           2020       20000-30000  \n",
       "67  Болты передних крыльев подозрительные           2020       20000-30000  \n",
       "70                                    NaN           2020       10000-20000  \n",
       "81                                    NaN           2020       20000-30000  \n",
       "84   тюнингованые выхлопные трубы, черные           2020       20000-30000  \n",
       "86                       горит чек энджин           2020       20000-30000  \n",
       "91               коричневый кожаный салон           2020       20000-30000  \n",
       "99                            AMG решетка           2021       20000-30000  "
      ]
     },
     "execution_count": 59,
     "metadata": {},
     "output_type": "execute_result"
    }
   ],
   "source": [
    "df_glb250_no_as[df_glb250_no_as['пробег'] <= 30000]"
   ]
  },
  {
   "cell_type": "code",
   "execution_count": 60,
   "metadata": {},
   "outputs": [
    {
     "data": {
      "text/plain": [
       "46.75"
      ]
     },
     "execution_count": 60,
     "metadata": {},
     "output_type": "execute_result"
    }
   ],
   "source": [
    "# средняя цена glb250 2021 модельного года без страховых случаев c пробегом до 30 000 км\n",
    "\n",
    "round(df_glb250_no_as[(df_glb250_no_as['пробег'] <= 30000) & (df_glb250_no_as['модельный год'] == 2021)]['цена'].mean(), 2)"
   ]
  },
  {
   "cell_type": "code",
   "execution_count": null,
   "metadata": {},
   "outputs": [
    {
     "data": {
      "text/html": [
       "<div>\n",
       "<style scoped>\n",
       "    .dataframe tbody tr th:only-of-type {\n",
       "        vertical-align: middle;\n",
       "    }\n",
       "\n",
       "    .dataframe tbody tr th {\n",
       "        vertical-align: top;\n",
       "    }\n",
       "\n",
       "    .dataframe thead th {\n",
       "        text-align: right;\n",
       "    }\n",
       "</style>\n",
       "<table border=\"1\" class=\"dataframe\">\n",
       "  <thead>\n",
       "    <tr style=\"text-align: right;\">\n",
       "      <th></th>\n",
       "      <th>модель</th>\n",
       "      <th>регистрация</th>\n",
       "      <th>VIN</th>\n",
       "      <th>выпуск</th>\n",
       "      <th>пробег</th>\n",
       "      <th>цена</th>\n",
       "      <th>Кол-во страховых случаев</th>\n",
       "      <th>Выплаты этому авто</th>\n",
       "      <th>Выплаты другому</th>\n",
       "      <th>Комплектация</th>\n",
       "      <th>Цвет</th>\n",
       "      <th>комментарии</th>\n",
       "      <th>модельный год</th>\n",
       "      <th>категория пробега</th>\n",
       "    </tr>\n",
       "  </thead>\n",
       "  <tbody>\n",
       "    <tr>\n",
       "      <th>30</th>\n",
       "      <td>250</td>\n",
       "      <td>2021-08-01</td>\n",
       "      <td>152242</td>\n",
       "      <td>2021</td>\n",
       "      <td>30670</td>\n",
       "      <td>45.5</td>\n",
       "      <td>0</td>\n",
       "      <td>0</td>\n",
       "      <td>0</td>\n",
       "      <td>двузонный климат с задними воздуховодами, 7 мест</td>\n",
       "      <td>серый</td>\n",
       "      <td>не продается на экспорт в РФ</td>\n",
       "      <td>2021</td>\n",
       "      <td>30000-40000</td>\n",
       "    </tr>\n",
       "    <tr>\n",
       "      <th>38</th>\n",
       "      <td>250</td>\n",
       "      <td>2021-10-01</td>\n",
       "      <td>155073</td>\n",
       "      <td>2021</td>\n",
       "      <td>18812</td>\n",
       "      <td>48.0</td>\n",
       "      <td>0</td>\n",
       "      <td>0</td>\n",
       "      <td>0</td>\n",
       "      <td>двузонный климат с задними воздуховодами, 7 мест</td>\n",
       "      <td>серебристый</td>\n",
       "      <td>NaN</td>\n",
       "      <td>2021</td>\n",
       "      <td>10000-20000</td>\n",
       "    </tr>\n",
       "    <tr>\n",
       "      <th>52</th>\n",
       "      <td>250</td>\n",
       "      <td>2021-08-01</td>\n",
       "      <td>148431</td>\n",
       "      <td>2021</td>\n",
       "      <td>30385</td>\n",
       "      <td>44.0</td>\n",
       "      <td>0</td>\n",
       "      <td>0</td>\n",
       "      <td>0</td>\n",
       "      <td>двузонный климат с задними воздуховодами, 7 мест</td>\n",
       "      <td>белый</td>\n",
       "      <td>NaN</td>\n",
       "      <td>2021</td>\n",
       "      <td>30000-40000</td>\n",
       "    </tr>\n",
       "    <tr>\n",
       "      <th>99</th>\n",
       "      <td>250</td>\n",
       "      <td>2021-06-01</td>\n",
       "      <td>120257</td>\n",
       "      <td>2021</td>\n",
       "      <td>23531</td>\n",
       "      <td>45.5</td>\n",
       "      <td>0</td>\n",
       "      <td>0</td>\n",
       "      <td>0</td>\n",
       "      <td>двузонный климат с задними воздуховодами  5 мест</td>\n",
       "      <td>белый</td>\n",
       "      <td>AMG решетка</td>\n",
       "      <td>2021</td>\n",
       "      <td>20000-30000</td>\n",
       "    </tr>\n",
       "  </tbody>\n",
       "</table>\n",
       "</div>"
      ],
      "text/plain": [
       "    модель регистрация     VIN выпуск  пробег  цена  Кол-во страховых случаев  \\\n",
       "30     250  2021-08-01  152242   2021   30670  45.5                         0   \n",
       "38     250  2021-10-01  155073   2021   18812  48.0                         0   \n",
       "52     250  2021-08-01  148431   2021   30385  44.0                         0   \n",
       "99     250  2021-06-01  120257   2021   23531  45.5                         0   \n",
       "\n",
       "    Выплаты этому авто Выплаты другому  \\\n",
       "30                   0               0   \n",
       "38                   0               0   \n",
       "52                   0               0   \n",
       "99                   0               0   \n",
       "\n",
       "                                        Комплектация         Цвет  \\\n",
       "30  двузонный климат с задними воздуховодами, 7 мест        серый   \n",
       "38  двузонный климат с задними воздуховодами, 7 мест  серебристый   \n",
       "52  двузонный климат с задними воздуховодами, 7 мест        белый   \n",
       "99  двузонный климат с задними воздуховодами  5 мест        белый   \n",
       "\n",
       "                     комментарии  модельный год категория пробега  \n",
       "30  не продается на экспорт в РФ           2021       30000-40000  \n",
       "38                           NaN           2021       10000-20000  \n",
       "52                           NaN           2021       30000-40000  \n",
       "99                   AMG решетка           2021       20000-30000  "
      ]
     },
     "execution_count": 61,
     "metadata": {},
     "output_type": "execute_result"
    }
   ],
   "source": [
    "# glb250 2021 модельного года без страховых случаев c пробегом до 30 000 км\n",
    "\n",
    "df_glb250_no_as[(df_glb250_no_as['пробег'] <= 31000) & (df_glb250_no_as['модельный год'] == 2021)]"
   ]
  },
  {
   "cell_type": "code",
   "execution_count": 62,
   "metadata": {},
   "outputs": [
    {
     "data": {
      "image/png": "[encoded data removed]",
      "text/plain": [
       "<Figure size 640x480 with 1 Axes>"
      ]
     },
     "metadata": {},
     "output_type": "display_data"
    }
   ],
   "source": [
    "ax = sns.countplot(data=df, x = 'модельный год')\n",
    "for container in ax.containers:\n",
    "    ax.bar_label(container)\n",
    "plt.title('Распределение всех автомобилей по модельным годам')\n",
    "plt.show()"
   ]
  },
  {
   "cell_type": "code",
   "execution_count": 63,
   "metadata": {},
   "outputs": [
    {
     "data": {
      "image/png": "[encoded data removed]",
      "text/plain": [
       "<Figure size 640x480 with 1 Axes>"
      ]
     },
     "metadata": {},
     "output_type": "display_data"
    }
   ],
   "source": [
    "ax = sns.countplot(data=df_glb250, x = 'модельный год')\n",
    "for container in ax.containers:\n",
    "    ax.bar_label(container)\n",
    "plt.title('Распределение GLB250 по модельным годам')\n",
    "plt.show()"
   ]
  },
  {
   "cell_type": "code",
   "execution_count": 64,
   "metadata": {},
   "outputs": [
    {
     "data": {
      "image/png": "[encoded data removed]",
      "text/plain": [
       "<Figure size 640x480 with 1 Axes>"
      ]
     },
     "metadata": {},
     "output_type": "display_data"
    }
   ],
   "source": [
    "ax = sns.countplot(data=df_glb35, x = 'модельный год')\n",
    "for container in ax.containers:\n",
    "    ax.bar_label(container)\n",
    "plt.title('Распределение GLB35 по модельным годам')\n",
    "plt.show()"
   ]
  },
  {
   "cell_type": "code",
   "execution_count": 65,
   "metadata": {},
   "outputs": [
    {
     "data": {
      "text/plain": [
       "категория пробега\n",
       "0-10000         3\n",
       "10000-20000    13\n",
       "20000-30000    19\n",
       "40000-50000    31\n",
       "30000-40000    31\n",
       "Name: count, dtype: int64"
      ]
     },
     "execution_count": 65,
     "metadata": {},
     "output_type": "execute_result"
    }
   ],
   "source": [
    "df['категория пробега'].value_counts(ascending=True)"
   ]
  },
  {
   "cell_type": "code",
   "execution_count": 66,
   "metadata": {},
   "outputs": [
    {
     "data": {
      "image/png": "[encoded data removed]",
      "text/plain": [
       "<Figure size 640x480 with 1 Axes>"
      ]
     },
     "metadata": {},
     "output_type": "display_data"
    }
   ],
   "source": [
    "ax = sns.countplot(data=df, x = 'категория пробега', order = df['категория пробега'].value_counts(ascending=True).index)\n",
    "for container in ax.containers:\n",
    "    ax.bar_label(container)\n",
    "plt.xticks(rotation = 45)\n",
    "plt.title('Распределение по пробегу среди всех автомобилей')\n",
    "plt.show()"
   ]
  },
  {
   "cell_type": "code",
   "execution_count": 67,
   "metadata": {},
   "outputs": [
    {
     "data": {
      "image/png": "[encoded data removed]",
      "text/plain": [
       "<Figure size 640x480 with 1 Axes>"
      ]
     },
     "metadata": {},
     "output_type": "display_data"
    }
   ],
   "source": [
    "ax = sns.countplot(data=df_glb250, x = 'категория пробега', order = df_glb250['категория пробега'].value_counts(ascending=True).index)\n",
    "for container in ax.containers:\n",
    "    ax.bar_label(container)\n",
    "plt.xticks(rotation = 45)\n",
    "plt.title('Распределение по пробегу среди glb250')\n",
    "plt.show()"
   ]
  },
  {
   "cell_type": "code",
   "execution_count": 68,
   "metadata": {},
   "outputs": [
    {
     "data": {
      "image/png": "[encoded data removed]",
      "text/plain": [
       "<Figure size 640x480 with 1 Axes>"
      ]
     },
     "metadata": {},
     "output_type": "display_data"
    }
   ],
   "source": [
    "ax = sns.countplot(data=df_glb35, x = 'категория пробега', order = df_glb35['категория пробега'].value_counts(ascending=True).index)\n",
    "for container in ax.containers:\n",
    "    ax.bar_label(container)\n",
    "plt.xticks(rotation = 45)\n",
    "plt.title('Распределение по пробегу среди glb35')\n",
    "plt.show()"
   ]
  },
  {
   "cell_type": "code",
   "execution_count": 69,
   "metadata": {},
   "outputs": [
    {
     "data": {
      "text/html": [
       "<div>\n",
       "<style scoped>\n",
       "    .dataframe tbody tr th:only-of-type {\n",
       "        vertical-align: middle;\n",
       "    }\n",
       "\n",
       "    .dataframe tbody tr th {\n",
       "        vertical-align: top;\n",
       "    }\n",
       "\n",
       "    .dataframe thead th {\n",
       "        text-align: right;\n",
       "    }\n",
       "</style>\n",
       "<table border=\"1\" class=\"dataframe\">\n",
       "  <thead>\n",
       "    <tr style=\"text-align: right;\">\n",
       "      <th></th>\n",
       "      <th>модель</th>\n",
       "      <th>регистрация</th>\n",
       "      <th>VIN</th>\n",
       "      <th>выпуск</th>\n",
       "      <th>пробег</th>\n",
       "      <th>цена</th>\n",
       "      <th>Кол-во страховых случаев</th>\n",
       "      <th>Выплаты этому авто</th>\n",
       "      <th>Выплаты другому</th>\n",
       "      <th>Комплектация</th>\n",
       "      <th>Цвет</th>\n",
       "      <th>комментарии</th>\n",
       "      <th>модельный год</th>\n",
       "      <th>категория пробега</th>\n",
       "    </tr>\n",
       "  </thead>\n",
       "  <tbody>\n",
       "    <tr>\n",
       "      <th>0</th>\n",
       "      <td>250</td>\n",
       "      <td>2021-03-01</td>\n",
       "      <td>NaN</td>\n",
       "      <td>2020???</td>\n",
       "      <td>16156</td>\n",
       "      <td>45.9</td>\n",
       "      <td>1</td>\n",
       "      <td>587</td>\n",
       "      <td>190</td>\n",
       "      <td>однозонный климат, без воздуховодов</td>\n",
       "      <td>белый</td>\n",
       "      <td>NaN</td>\n",
       "      <td>2020</td>\n",
       "      <td>10000-20000</td>\n",
       "    </tr>\n",
       "    <tr>\n",
       "      <th>1</th>\n",
       "      <td>250</td>\n",
       "      <td>2021-02-01</td>\n",
       "      <td>101897</td>\n",
       "      <td>2020???</td>\n",
       "      <td>27500</td>\n",
       "      <td>44.9</td>\n",
       "      <td>0</td>\n",
       "      <td>0</td>\n",
       "      <td>0</td>\n",
       "      <td>однозонный климат, без воздуховодов</td>\n",
       "      <td>белый</td>\n",
       "      <td>NaN</td>\n",
       "      <td>2020</td>\n",
       "      <td>20000-30000</td>\n",
       "    </tr>\n",
       "    <tr>\n",
       "      <th>2</th>\n",
       "      <td>250</td>\n",
       "      <td>2021-09-01</td>\n",
       "      <td>152540</td>\n",
       "      <td>2021</td>\n",
       "      <td>41612</td>\n",
       "      <td>44.0</td>\n",
       "      <td>0</td>\n",
       "      <td>0</td>\n",
       "      <td>0</td>\n",
       "      <td>двузонный климат с задними воздуховодами</td>\n",
       "      <td>белый</td>\n",
       "      <td>продает оф. Дилер, скол на приборной панели</td>\n",
       "      <td>2021</td>\n",
       "      <td>40000-50000</td>\n",
       "    </tr>\n",
       "    <tr>\n",
       "      <th>3</th>\n",
       "      <td>35</td>\n",
       "      <td>2021-12-01</td>\n",
       "      <td>167747</td>\n",
       "      <td>2021-10-01 00:00:00</td>\n",
       "      <td>4642</td>\n",
       "      <td>50.5</td>\n",
       "      <td>0</td>\n",
       "      <td>0</td>\n",
       "      <td>0</td>\n",
       "      <td>двузонный климат с задними воздуховодами</td>\n",
       "      <td>белый</td>\n",
       "      <td>NaN</td>\n",
       "      <td>2021</td>\n",
       "      <td>0-10000</td>\n",
       "    </tr>\n",
       "    <tr>\n",
       "      <th>4</th>\n",
       "      <td>250</td>\n",
       "      <td>2021-04-01</td>\n",
       "      <td>106777</td>\n",
       "      <td>2020???</td>\n",
       "      <td>35301</td>\n",
       "      <td>43.9</td>\n",
       "      <td>0</td>\n",
       "      <td>0</td>\n",
       "      <td>0</td>\n",
       "      <td>однозонный климат, без воздуховодов</td>\n",
       "      <td>черный</td>\n",
       "      <td>NaN</td>\n",
       "      <td>2020</td>\n",
       "      <td>30000-40000</td>\n",
       "    </tr>\n",
       "    <tr>\n",
       "      <th>...</th>\n",
       "      <td>...</td>\n",
       "      <td>...</td>\n",
       "      <td>...</td>\n",
       "      <td>...</td>\n",
       "      <td>...</td>\n",
       "      <td>...</td>\n",
       "      <td>...</td>\n",
       "      <td>...</td>\n",
       "      <td>...</td>\n",
       "      <td>...</td>\n",
       "      <td>...</td>\n",
       "      <td>...</td>\n",
       "      <td>...</td>\n",
       "      <td>...</td>\n",
       "    </tr>\n",
       "    <tr>\n",
       "      <th>103</th>\n",
       "      <td>35</td>\n",
       "      <td>2021-02-01</td>\n",
       "      <td>88387</td>\n",
       "      <td>2020???</td>\n",
       "      <td>41749</td>\n",
       "      <td>46.9</td>\n",
       "      <td>4</td>\n",
       "      <td>6525</td>\n",
       "      <td>1369</td>\n",
       "      <td>однозонный климат, без воздуховодов, 5 мест</td>\n",
       "      <td>белый</td>\n",
       "      <td>NaN</td>\n",
       "      <td>2020</td>\n",
       "      <td>40000-50000</td>\n",
       "    </tr>\n",
       "    <tr>\n",
       "      <th>104</th>\n",
       "      <td>250</td>\n",
       "      <td>2021-06-01</td>\n",
       "      <td>NaN</td>\n",
       "      <td>2021</td>\n",
       "      <td>16427</td>\n",
       "      <td>43.8</td>\n",
       "      <td>1</td>\n",
       "      <td>2106</td>\n",
       "      <td>0</td>\n",
       "      <td>двузонный климат с задними воздуховодами  5 мест</td>\n",
       "      <td>белый</td>\n",
       "      <td>NaN</td>\n",
       "      <td>2021</td>\n",
       "      <td>10000-20000</td>\n",
       "    </tr>\n",
       "    <tr>\n",
       "      <th>105</th>\n",
       "      <td>250</td>\n",
       "      <td>2021-01-01</td>\n",
       "      <td>NaN</td>\n",
       "      <td>2020???</td>\n",
       "      <td>43643</td>\n",
       "      <td>41.5</td>\n",
       "      <td>2</td>\n",
       "      <td>0</td>\n",
       "      <td>611</td>\n",
       "      <td>однозонный климат, без воздуховодов, 5 мест</td>\n",
       "      <td>белый</td>\n",
       "      <td>белый перламутр</td>\n",
       "      <td>2020</td>\n",
       "      <td>40000-50000</td>\n",
       "    </tr>\n",
       "    <tr>\n",
       "      <th>106</th>\n",
       "      <td>250</td>\n",
       "      <td>2021-05-01</td>\n",
       "      <td>113637</td>\n",
       "      <td>2021</td>\n",
       "      <td>33061</td>\n",
       "      <td>39.5</td>\n",
       "      <td>3</td>\n",
       "      <td>13146</td>\n",
       "      <td>805</td>\n",
       "      <td>двузонный климат с задними воздуховодами  5 мест</td>\n",
       "      <td>белый</td>\n",
       "      <td>NaN</td>\n",
       "      <td>2021</td>\n",
       "      <td>30000-40000</td>\n",
       "    </tr>\n",
       "    <tr>\n",
       "      <th>107</th>\n",
       "      <td>250</td>\n",
       "      <td>2021-04-01</td>\n",
       "      <td>87836</td>\n",
       "      <td>2020???</td>\n",
       "      <td>28851</td>\n",
       "      <td>42.5</td>\n",
       "      <td>1</td>\n",
       "      <td>6638</td>\n",
       "      <td>536</td>\n",
       "      <td>1 зонный климат с задними воздуховодами, 5 мест</td>\n",
       "      <td>серый</td>\n",
       "      <td>NaN</td>\n",
       "      <td>2020</td>\n",
       "      <td>20000-30000</td>\n",
       "    </tr>\n",
       "  </tbody>\n",
       "</table>\n",
       "<p>97 rows × 14 columns</p>\n",
       "</div>"
      ],
      "text/plain": [
       "     модель регистрация     VIN               выпуск  пробег  цена  \\\n",
       "0       250  2021-03-01     NaN              2020???   16156  45.9   \n",
       "1       250  2021-02-01  101897              2020???   27500  44.9   \n",
       "2       250  2021-09-01  152540                 2021   41612  44.0   \n",
       "3        35  2021-12-01  167747  2021-10-01 00:00:00    4642  50.5   \n",
       "4       250  2021-04-01  106777              2020???   35301  43.9   \n",
       "..      ...         ...     ...                  ...     ...   ...   \n",
       "103      35  2021-02-01   88387              2020???   41749  46.9   \n",
       "104     250  2021-06-01     NaN                 2021   16427  43.8   \n",
       "105     250  2021-01-01     NaN              2020???   43643  41.5   \n",
       "106     250  2021-05-01  113637                 2021   33061  39.5   \n",
       "107     250  2021-04-01   87836              2020???   28851  42.5   \n",
       "\n",
       "     Кол-во страховых случаев  Выплаты этому авто Выплаты другому  \\\n",
       "0                           1                 587             190   \n",
       "1                           0                   0               0   \n",
       "2                           0                   0               0   \n",
       "3                           0                   0               0   \n",
       "4                           0                   0               0   \n",
       "..                        ...                 ...             ...   \n",
       "103                         4                6525            1369   \n",
       "104                         1                2106               0   \n",
       "105                         2                   0             611   \n",
       "106                         3               13146             805   \n",
       "107                         1                6638             536   \n",
       "\n",
       "                                         Комплектация    Цвет  \\\n",
       "0                 однозонный климат, без воздуховодов   белый   \n",
       "1                 однозонный климат, без воздуховодов   белый   \n",
       "2            двузонный климат с задними воздуховодами   белый   \n",
       "3            двузонный климат с задними воздуховодами   белый   \n",
       "4                 однозонный климат, без воздуховодов  черный   \n",
       "..                                                ...     ...   \n",
       "103       однозонный климат, без воздуховодов, 5 мест   белый   \n",
       "104  двузонный климат с задними воздуховодами  5 мест   белый   \n",
       "105       однозонный климат, без воздуховодов, 5 мест   белый   \n",
       "106  двузонный климат с задними воздуховодами  5 мест   белый   \n",
       "107   1 зонный климат с задними воздуховодами, 5 мест   серый   \n",
       "\n",
       "                                     комментарии  модельный год  \\\n",
       "0                                            NaN           2020   \n",
       "1                                            NaN           2020   \n",
       "2    продает оф. Дилер, скол на приборной панели           2021   \n",
       "3                                            NaN           2021   \n",
       "4                                            NaN           2020   \n",
       "..                                           ...            ...   \n",
       "103                                          NaN           2020   \n",
       "104                                          NaN           2021   \n",
       "105                              белый перламутр           2020   \n",
       "106                                          NaN           2021   \n",
       "107                                          NaN           2020   \n",
       "\n",
       "    категория пробега  \n",
       "0         10000-20000  \n",
       "1         20000-30000  \n",
       "2         40000-50000  \n",
       "3             0-10000  \n",
       "4         30000-40000  \n",
       "..                ...  \n",
       "103       40000-50000  \n",
       "104       10000-20000  \n",
       "105       40000-50000  \n",
       "106       30000-40000  \n",
       "107       20000-30000  \n",
       "\n",
       "[97 rows x 14 columns]"
      ]
     },
     "execution_count": 69,
     "metadata": {},
     "output_type": "execute_result"
    }
   ],
   "source": [
    "df"
   ]
  },
  {
   "cell_type": "markdown",
   "metadata": {},
   "source": [
    "***Создадим новый датасет с очищенными данными, выгрузим в него только те колонки, которые в дальнейшем будем использовать в BI-системе для подготовки дашборда***"
   ]
  },
  {
   "cell_type": "code",
   "execution_count": 70,
   "metadata": {},
   "outputs": [],
   "source": [
    "df_out = df[['модель', 'пробег', 'цена', 'Кол-во страховых случаев', 'Выплаты этому авто', 'Цвет', 'модельный год', 'категория пробега']]"
   ]
  },
  {
   "cell_type": "code",
   "execution_count": 75,
   "metadata": {},
   "outputs": [],
   "source": [
    "# переведем названия колонок на англ. язык. Это понадобится нам при дальнешей загрузке этих данных в различные СУБД или BI-системы, во избежании конфликтов с названиями полей на кириллице\n",
    "\n",
    "df_out.columns = ['model', 'miliage', 'price', 'number of insure', 'insurance payments', 'color', 'model year', 'miliage category' ]"
   ]
  },
  {
   "cell_type": "code",
   "execution_count": 72,
   "metadata": {},
   "outputs": [],
   "source": [
    "# выгружаем очищенные данные в CSV\n",
    "\n",
    "df_out.to_csv('GLB.csv', index=False, encoding=\"cp1251\")"
   ]
  },
  {
   "cell_type": "code",
   "execution_count": null,
   "metadata": {},
   "outputs": [],
   "source": []
  }
 ],
 "metadata": {
  "kernelspec": {
   "display_name": ".venv",
   "language": "python",
   "name": "python3"
  },
  "language_info": {
   "codemirror_mode": {
    "name": "ipython",
    "version": 3
   },
   "file_extension": ".py",
   "mimetype": "text/x-python",
   "name": "python",
   "nbconvert_exporter": "python",
   "pygments_lexer": "ipython3",
   "version": "3.12.3"
  }
 },
 "nbformat": 4,
 "nbformat_minor": 2
}
